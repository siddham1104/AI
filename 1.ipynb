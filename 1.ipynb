{
 "cells": [
  {
   "cell_type": "code",
   "execution_count": 14,
   "id": "28facb1b",
   "metadata": {},
   "outputs": [
    {
     "name": "stdout",
     "output_type": "stream",
     "text": [
      "DFS is :\n",
      "A\n",
      "B\n",
      "D\n",
      "E\n",
      "F\n",
      "C\n",
      "BFS is : \n",
      "A\n",
      "B\n",
      "C\n",
      "D\n",
      "E\n",
      "F\n"
     ]
    }
   ],
   "source": [
    "def dfs(graph,start,visited=None):\n",
    "    if visited is None:\n",
    "        visited=set()\n",
    "        \n",
    "    visited.add(start)\n",
    "    print(start)\n",
    "    \n",
    "    for neighbour in graph[start]:\n",
    "        if neighbour not in visited:\n",
    "            dfs(graph,neighbour,visited)\n",
    "\n",
    "\n",
    "\n",
    "\n",
    "from queue import Queue\n",
    "def bfs(graph,start):\n",
    "    visited=set()\n",
    "    queue=Queue()\n",
    "    queue.put(start)\n",
    "    visited.add(start)\n",
    "    \n",
    "    while not queue.empty():\n",
    "        vertex=queue.get()\n",
    "        print(vertex)\n",
    "        #visited.add(vertex)\n",
    "        \n",
    "        for neighbour in graph[vertex]:\n",
    "            if neighbour not in visited:\n",
    "                queue.put(neighbour)\n",
    "                visited.add(neighbour)\n",
    "                \n",
    "\n",
    "graph = {\n",
    "    'A': ['B', 'C'],\n",
    "    'B': ['A', 'D', 'E'],\n",
    "    'C': ['A', 'F'],\n",
    "    'D': ['B'],\n",
    "    'E': ['B', 'F'],\n",
    "    'F': ['C', 'E']\n",
    "}\n",
    "\n",
    "\n",
    "\n",
    "print(\"DFS is :\")\n",
    "dfs(graph,'A')\n",
    "\n",
    "\n",
    "print(\"BFS is : \")\n",
    "bfs(graph,'A')\n"
   ]
  },
  {
   "cell_type": "code",
   "execution_count": null,
   "id": "8943d0c3",
   "metadata": {},
   "outputs": [],
   "source": []
  },
  {
   "cell_type": "code",
   "execution_count": null,
   "id": "77c56bdf",
   "metadata": {},
   "outputs": [],
   "source": []
  }
 ],
 "metadata": {
  "kernelspec": {
   "display_name": "Python 3 (ipykernel)",
   "language": "python",
   "name": "python3"
  },
  "language_info": {
   "codemirror_mode": {
    "name": "ipython",
    "version": 3
   },
   "file_extension": ".py",
   "mimetype": "text/x-python",
   "name": "python",
   "nbconvert_exporter": "python",
   "pygments_lexer": "ipython3",
   "version": "3.11.3"
  }
 },
 "nbformat": 4,
 "nbformat_minor": 5
}
